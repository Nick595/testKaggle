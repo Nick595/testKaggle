{
 "cells": [
  {
   "cell_type": "markdown",
   "id": "fec64422",
   "metadata": {
    "ExecuteTime": {
     "end_time": "2022-12-31T23:12:31.532812Z",
     "start_time": "2022-12-31T23:12:31.395605Z"
    }
   },
   "source": [
    "### Step 1. Get  a Kaggle API key."
   ]
  },
  {
   "cell_type": "markdown",
   "id": "d68040dc",
   "metadata": {
    "ExecuteTime": {
     "end_time": "2022-12-31T23:12:31.784021Z",
     "start_time": "2022-12-31T23:12:31.537645Z"
    }
   },
   "source": [
    "### Step 2. Place (download) the Kaggle API key on your local platform."
   ]
  },
  {
   "cell_type": "markdown",
   "id": "9b3a5b95",
   "metadata": {},
   "source": [
    "### Step 3. Install the Kaggle API client and authenicate"
   ]
  },
  {
   "cell_type": "code",
   "execution_count": 1,
   "id": "f674a4e4",
   "metadata": {
    "ExecuteTime": {
     "end_time": "2023-01-21T23:38:16.122198Z",
     "start_time": "2023-01-21T23:38:07.489560Z"
    }
   },
   "outputs": [
    {
     "name": "stdout",
     "output_type": "stream",
     "text": [
      "Collecting kaggle\n",
      "  Using cached kaggle-1.5.12.tar.gz (58 kB)\n",
      "Requirement already satisfied: six>=1.10 in /Users/brucecottman/.pyenv/versions/anaconda3-2022.05/lib/python3.9/site-packages (from kaggle) (1.16.0)\n",
      "Collecting certifi\n",
      "  Using cached certifi-2022.12.7-py3-none-any.whl (155 kB)\n",
      "Requirement already satisfied: python-dateutil in /Users/brucecottman/.pyenv/versions/anaconda3-2022.05/lib/python3.9/site-packages (from kaggle) (2.8.2)\n",
      "Requirement already satisfied: requests in /Users/brucecottman/.pyenv/versions/anaconda3-2022.05/lib/python3.9/site-packages (from kaggle) (2.27.1)\n",
      "Requirement already satisfied: tqdm in /Users/brucecottman/.pyenv/versions/anaconda3-2022.05/lib/python3.9/site-packages (from kaggle) (4.64.0)\n",
      "Requirement already satisfied: python-slugify in /Users/brucecottman/.pyenv/versions/anaconda3-2022.05/lib/python3.9/site-packages (from kaggle) (5.0.2)\n",
      "Requirement already satisfied: urllib3 in /Users/brucecottman/.pyenv/versions/anaconda3-2022.05/lib/python3.9/site-packages (from kaggle) (1.26.9)\n",
      "Requirement already satisfied: text-unidecode>=1.3 in /Users/brucecottman/.pyenv/versions/anaconda3-2022.05/lib/python3.9/site-packages (from python-slugify->kaggle) (1.3)\n",
      "Collecting charset-normalizer~=2.0.0\n",
      "  Downloading charset_normalizer-2.0.12-py3-none-any.whl (39 kB)\n",
      "Collecting idna<4,>=2.5\n",
      "  Using cached idna-3.4-py3-none-any.whl (61 kB)\n",
      "Building wheels for collected packages: kaggle\n",
      "  Building wheel for kaggle (setup.py) ... \u001b[?25ldone\n",
      "\u001b[?25h  Created wheel for kaggle: filename=kaggle-1.5.12-py3-none-any.whl size=73049 sha256=d676c8121d1a545696a3e0cc68f165b2462c5ac24de0eb14ac3eb60b091130a1\n",
      "  Stored in directory: /Users/brucecottman/Library/Caches/pip/wheels/ac/b2/c3/fa4706d469b5879105991d1c8be9a3c2ef329ba9fe2ce5085e\n",
      "Successfully built kaggle\n",
      "Installing collected packages: idna, charset-normalizer, certifi, kaggle\n",
      "\u001b[33m  WARNING: The script normalizer is installed in '/Users/brucecottman/.pyenv/versions/anaconda3-2022.05/bin' which is not on PATH.\n",
      "  Consider adding this directory to PATH or, if you prefer to suppress this warning, use --no-warn-script-location.\u001b[0m\n",
      "\u001b[33m  WARNING: The script kaggle is installed in '/Users/brucecottman/.pyenv/versions/anaconda3-2022.05/bin' which is not on PATH.\n",
      "  Consider adding this directory to PATH or, if you prefer to suppress this warning, use --no-warn-script-location.\u001b[0m\n",
      "\u001b[31mERROR: pip's dependency resolver does not currently take into account all the packages that are installed. This behaviour is the source of the following dependency conflicts.\n",
      "yarl 1.6.3 requires multidict>=4.0, which is not installed.\n",
      "tldextract 3.2.0 requires filelock>=3.0.8, which is not installed.\n",
      "scrapy 2.6.1 requires cryptography>=2.0, which is not installed.\n",
      "scrapy 2.6.1 requires cssselect>=0.9.1, which is not installed.\n",
      "scrapy 2.6.1 requires itemadapter>=0.1.0, which is not installed.\n",
      "scrapy 2.6.1 requires itemloaders>=1.0.1, which is not installed.\n",
      "scrapy 2.6.1 requires lxml>=3.5.0; platform_python_implementation == \"CPython\", which is not installed.\n",
      "scrapy 2.6.1 requires parsel>=1.5.0, which is not installed.\n",
      "scrapy 2.6.1 requires protego>=0.1.15, which is not installed.\u001b[0m\n",
      "Successfully installed certifi-2022.12.7 charset-normalizer-2.0.12 idna-3.4 kaggle-1.5.12\n",
      "Warning: Your Kaggle API key is readable by other users on this system! To fix this, you can run 'chmod 600 /Users/brucecottman/.kaggle/kaggle.json'\n"
     ]
    }
   ],
   "source": [
    "# install the kaggle package\n",
    "!pip install kaggle\n",
    "import kaggle\n"
   ]
  },
  {
   "cell_type": "code",
   "execution_count": 2,
   "id": "7d535374",
   "metadata": {
    "ExecuteTime": {
     "end_time": "2023-01-21T23:38:16.130189Z",
     "start_time": "2023-01-21T23:38:16.126539Z"
    }
   },
   "outputs": [],
   "source": [
    "### KPI Authenication"
   ]
  },
  {
   "cell_type": "code",
   "execution_count": 3,
   "id": "8a1c32c5",
   "metadata": {
    "ExecuteTime": {
     "end_time": "2023-01-21T23:38:16.143167Z",
     "start_time": "2023-01-21T23:38:16.133167Z"
    },
    "scrolled": true
   },
   "outputs": [
    {
     "name": "stdout",
     "output_type": "stream",
     "text": [
      "Warning: Your Kaggle API key is readable by other users on this system! To fix this, you can run 'chmod 600 /Users/brucecottman/.kaggle/kaggle.json'\n"
     ]
    }
   ],
   "source": [
    "\n",
    "# Warning: Your Kaggle API key is readable by other users on this system! \n",
    "# To fix this, you can run\n",
    "#!chmod 006 /Users/brucecottman/.kaggle/kaggle.json'\n",
    "\n",
    "\n",
    "# Load the API credentials\n",
    "kaggle.api.authenticate()"
   ]
  },
  {
   "cell_type": "markdown",
   "id": "ea23e167",
   "metadata": {
    "ExecuteTime": {
     "end_time": "2023-01-01T00:04:33.353553Z",
     "start_time": "2023-01-01T00:04:33.350502Z"
    }
   },
   "source": [
    "### Step 4. Retrieve the Kaggle dataset"
   ]
  },
  {
   "cell_type": "code",
   "execution_count": 5,
   "id": "339cd3a4",
   "metadata": {
    "ExecuteTime": {
     "end_time": "2023-01-21T23:40:07.829262Z",
     "start_time": "2023-01-21T23:40:07.701683Z"
    }
   },
   "outputs": [
    {
     "name": "stdout",
     "output_type": "stream",
     "text": [
      "Current working directory /Users/brucecottman/Documents/PROJECTS\n",
      "/Users/brucecottman/Documents/PROJECTS/datasets\r\n"
     ]
    }
   ],
   "source": [
    "import os\n",
    "# Check current working directory and then put dl datasets at '/datasets'\n",
    "os.chdir('..')\n",
    "pathtopwd = os.getcwd()\n",
    "print( \"Current working directory %s\" % pathtopwd)\n",
    "# set to subdirectory datasets\n",
    "os.chdir(pathtopwd+'/'+'datasets')\n",
    "!pwd"
   ]
  },
  {
   "cell_type": "code",
   "execution_count": 8,
   "id": "134142a9",
   "metadata": {
    "ExecuteTime": {
     "end_time": "2023-01-22T00:03:04.877893Z",
     "start_time": "2023-01-22T00:03:04.750052Z"
    }
   },
   "outputs": [
    {
     "name": "stdout",
     "output_type": "stream",
     "text": [
      "/Users/brucecottman/Documents/PROJECTS/datasets\r\n"
     ]
    }
   ],
   "source": [
    "!pwd"
   ]
  },
  {
   "cell_type": "code",
   "execution_count": 6,
   "id": "b1130d82",
   "metadata": {
    "ExecuteTime": {
     "end_time": "2023-01-21T23:40:18.026979Z",
     "start_time": "2023-01-21T23:40:16.493727Z"
    }
   },
   "outputs": [
    {
     "name": "stdout",
     "output_type": "stream",
     "text": [
      "Warning: Your Kaggle API key is readable by other users on this system! To fix this, you can run 'chmod 600 /Users/brucecottman/.kaggle/kaggle.json'\n",
      "Downloading titanic.zip to /Users/brucecottman/Documents/PROJECTS/datasets\n",
      "  0%|                                               | 0.00/34.1k [00:00<?, ?B/s]\n",
      "100%|██████████████████████████████████████| 34.1k/34.1k [00:00<00:00, 3.37MB/s]\n"
     ]
    }
   ],
   "source": [
    "!kaggle competitions download -c titanic\n"
   ]
  }
 ],
 "metadata": {
  "hide_input": false,
  "kernelspec": {
   "display_name": "Python 3 (ipykernel)",
   "language": "python",
   "name": "python3"
  },
  "language_info": {
   "codemirror_mode": {
    "name": "ipython",
    "version": 3
   },
   "file_extension": ".py",
   "mimetype": "text/x-python",
   "name": "python",
   "nbconvert_exporter": "python",
   "pygments_lexer": "ipython3",
   "version": "3.7.2"
  },
  "toc": {
   "base_numbering": 1,
   "nav_menu": {},
   "number_sections": true,
   "sideBar": true,
   "skip_h1_title": false,
   "title_cell": "Table of Contents",
   "title_sidebar": "Contents",
   "toc_cell": false,
   "toc_position": {},
   "toc_section_display": true,
   "toc_window_display": false
  }
 },
 "nbformat": 4,
 "nbformat_minor": 5
}
