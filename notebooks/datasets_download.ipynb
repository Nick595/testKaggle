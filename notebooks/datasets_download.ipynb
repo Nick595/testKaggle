{
 "cells": [
  {
   "cell_type": "code",
   "execution_count": 1,
   "id": "981842de",
   "metadata": {
    "ExecuteTime": {
     "end_time": "2023-02-13T20:56:50.773239Z",
     "start_time": "2023-02-13T20:56:50.617376Z"
    }
   },
   "outputs": [
    {
     "name": "stdout",
     "output_type": "stream",
     "text": [
      "/Users/brucecottman/Documents/PROJECTS/EDAplots/notebooks\r\n"
     ]
    }
   ],
   "source": [
    "!pwd"
   ]
  },
  {
   "cell_type": "markdown",
   "id": "fec64422",
   "metadata": {
    "ExecuteTime": {
     "end_time": "2022-12-31T23:12:31.532812Z",
     "start_time": "2022-12-31T23:12:31.395605Z"
    }
   },
   "source": [
    "### Step 1. Get  a Kaggle API key."
   ]
  },
  {
   "cell_type": "markdown",
   "id": "d68040dc",
   "metadata": {
    "ExecuteTime": {
     "end_time": "2022-12-31T23:12:31.784021Z",
     "start_time": "2022-12-31T23:12:31.537645Z"
    }
   },
   "source": [
    "### Step 2. Place (download) the Kaggle API key on your local platform."
   ]
  },
  {
   "cell_type": "markdown",
   "id": "9b3a5b95",
   "metadata": {},
   "source": [
    "### Step 3. Install the Kaggle API client and authenicate"
   ]
  },
  {
   "cell_type": "code",
   "execution_count": 2,
   "id": "f674a4e4",
   "metadata": {
    "ExecuteTime": {
     "end_time": "2023-02-13T20:57:02.616710Z",
     "start_time": "2023-02-13T20:56:58.871914Z"
    }
   },
   "outputs": [
    {
     "name": "stdout",
     "output_type": "stream",
     "text": [
      "Requirement already satisfied: kaggle in /Users/brucecottman/.pyenv/versions/anaconda3-2022.05/lib/python3.9/site-packages (1.5.12)\n",
      "Requirement already satisfied: certifi in /Users/brucecottman/.pyenv/versions/anaconda3-2022.05/lib/python3.9/site-packages (from kaggle) (2022.12.7)\n",
      "Requirement already satisfied: python-dateutil in /Users/brucecottman/.pyenv/versions/anaconda3-2022.05/lib/python3.9/site-packages (from kaggle) (2.8.2)\n",
      "Requirement already satisfied: urllib3 in /Users/brucecottman/.pyenv/versions/anaconda3-2022.05/lib/python3.9/site-packages (from kaggle) (1.26.9)\n",
      "Requirement already satisfied: requests in /Users/brucecottman/.pyenv/versions/anaconda3-2022.05/lib/python3.9/site-packages (from kaggle) (2.27.1)\n",
      "Requirement already satisfied: python-slugify in /Users/brucecottman/.pyenv/versions/anaconda3-2022.05/lib/python3.9/site-packages (from kaggle) (5.0.2)\n",
      "Requirement already satisfied: six>=1.10 in /Users/brucecottman/.pyenv/versions/anaconda3-2022.05/lib/python3.9/site-packages (from kaggle) (1.16.0)\n",
      "Requirement already satisfied: tqdm in /Users/brucecottman/.pyenv/versions/anaconda3-2022.05/lib/python3.9/site-packages (from kaggle) (4.64.0)\n",
      "Requirement already satisfied: text-unidecode>=1.3 in /Users/brucecottman/.pyenv/versions/anaconda3-2022.05/lib/python3.9/site-packages (from python-slugify->kaggle) (1.3)\n",
      "Requirement already satisfied: charset-normalizer~=2.0.0 in /Users/brucecottman/.pyenv/versions/anaconda3-2022.05/lib/python3.9/site-packages (from requests->kaggle) (2.0.12)\n",
      "Requirement already satisfied: idna<4,>=2.5 in /Users/brucecottman/.pyenv/versions/anaconda3-2022.05/lib/python3.9/site-packages (from requests->kaggle) (3.4)\n",
      "Warning: Your Kaggle API key is readable by other users on this system! To fix this, you can run 'chmod 600 /Users/brucecottman/.kaggle/kaggle.json'\n"
     ]
    }
   ],
   "source": [
    "# install the kaggle package\n",
    "!pip install kaggle\n",
    "import kaggle\n"
   ]
  },
  {
   "cell_type": "markdown",
   "id": "72a989a4",
   "metadata": {
    "ExecuteTime": {
     "end_time": "2023-01-23T16:40:27.082118Z",
     "start_time": "2023-01-23T16:40:27.079029Z"
    }
   },
   "source": [
    "### KPI Authenication"
   ]
  },
  {
   "cell_type": "code",
   "execution_count": 3,
   "id": "8a1c32c5",
   "metadata": {
    "ExecuteTime": {
     "end_time": "2023-02-13T20:57:08.554279Z",
     "start_time": "2023-02-13T20:57:08.543904Z"
    },
    "scrolled": true
   },
   "outputs": [
    {
     "name": "stdout",
     "output_type": "stream",
     "text": [
      "Warning: Your Kaggle API key is readable by other users on this system! To fix this, you can run 'chmod 600 /Users/brucecottman/.kaggle/kaggle.json'\n"
     ]
    }
   ],
   "source": [
    "\n",
    "# Warning: Your Kaggle API key is readable by other users on this system! \n",
    "# To fix this, you can run\n",
    "#!chmod 006 /Users/brucecottman/.kaggle/kaggle.json'\n",
    "\n",
    "\n",
    "# Load the API credentials\n",
    "kaggle.api.authenticate()"
   ]
  },
  {
   "cell_type": "markdown",
   "id": "ea23e167",
   "metadata": {
    "ExecuteTime": {
     "end_time": "2023-01-01T00:04:33.353553Z",
     "start_time": "2023-01-01T00:04:33.350502Z"
    }
   },
   "source": [
    "### Step 4. Retrieve the Kaggle dataset"
   ]
  },
  {
   "cell_type": "code",
   "execution_count": 4,
   "id": "339cd3a4",
   "metadata": {
    "ExecuteTime": {
     "end_time": "2023-02-13T20:57:14.515827Z",
     "start_time": "2023-02-13T20:57:14.383939Z"
    }
   },
   "outputs": [
    {
     "name": "stdout",
     "output_type": "stream",
     "text": [
      "Current working directory /Users/brucecottman/Documents/PROJECTS/EDAplots\n",
      "/Users/brucecottman/Documents/PROJECTS/EDAplots/datasets\r\n"
     ]
    }
   ],
   "source": [
    "import os\n",
    "# Check current working directory and then put dl datasets at '/datasets'\n",
    "os.chdir('..')\n",
    "pathtopwd = os.getcwd()\n",
    "print( \"Current working directory %s\" % pathtopwd)\n",
    "# set to subdirectory datasets\n",
    "os.chdir(pathtopwd+'/'+'datasets')\n",
    "!pwd"
   ]
  },
  {
   "cell_type": "code",
   "execution_count": 8,
   "id": "b1130d82",
   "metadata": {
    "ExecuteTime": {
     "end_time": "2023-02-13T21:01:22.630962Z",
     "start_time": "2023-02-13T21:01:21.527175Z"
    }
   },
   "outputs": [
    {
     "name": "stdout",
     "output_type": "stream",
     "text": [
      "Warning: Your Kaggle API key is readable by other users on this system! To fix this, you can run 'chmod 600 /Users/brucecottman/.kaggle/kaggle.json'\n",
      "Downloading Titanic.zip to /Users/brucecottman/Documents/PROJECTS/EDAplots/datasets\n",
      "  0%|                                               | 0.00/34.1k [00:00<?, ?B/s]\n",
      "100%|██████████████████████████████████████| 34.1k/34.1k [00:00<00:00, 3.28MB/s]\n"
     ]
    }
   ],
   "source": [
    "!kaggle competitions download --force -c Titanic\n"
   ]
  },
  {
   "cell_type": "code",
   "execution_count": 6,
   "id": "570d0584",
   "metadata": {
    "ExecuteTime": {
     "end_time": "2023-02-13T21:00:02.188467Z",
     "start_time": "2023-02-13T21:00:02.183626Z"
    }
   },
   "outputs": [],
   "source": [
    "import zipfile\n",
    "def unzip(strfile):\n",
    "    zip_ref = zipfile.ZipFile(strfile, 'r')\n",
    "    zip_ref.extractall('.')"
   ]
  },
  {
   "cell_type": "code",
   "execution_count": 13,
   "id": "645f443c",
   "metadata": {
    "ExecuteTime": {
     "end_time": "2023-02-01T16:10:26.249891Z",
     "start_time": "2023-02-01T16:10:26.241102Z"
    }
   },
   "outputs": [],
   "source": [
    "unzip('titanic.zip')"
   ]
  },
  {
   "cell_type": "code",
   "execution_count": null,
   "id": "ec2d885a",
   "metadata": {},
   "outputs": [],
   "source": [
    "!kaggle datasets download --force sardorabdirayimov/spaceship-titanic-no-missing-values"
   ]
  },
  {
   "cell_type": "code",
   "execution_count": 15,
   "id": "bb822196",
   "metadata": {
    "ExecuteTime": {
     "end_time": "2023-02-01T16:12:04.214361Z",
     "start_time": "2023-02-01T16:12:04.083995Z"
    }
   },
   "outputs": [
    {
     "name": "stdout",
     "output_type": "stream",
     "text": [
      "/Users/brucecottman/Documents/PROJECTS/EDAplots/datasets\r\n"
     ]
    }
   ],
   "source": [
    "!pwd"
   ]
  },
  {
   "cell_type": "code",
   "execution_count": 17,
   "id": "82752e02",
   "metadata": {
    "ExecuteTime": {
     "end_time": "2023-02-01T16:13:03.692516Z",
     "start_time": "2023-02-01T16:13:03.675825Z"
    }
   },
   "outputs": [],
   "source": [
    "unzip('spaceship-titanic-no-missing-values.zip')"
   ]
  },
  {
   "cell_type": "markdown",
   "id": "c7ec7a15",
   "metadata": {},
   "source": [
    "# "
   ]
  },
  {
   "cell_type": "code",
   "execution_count": 9,
   "id": "418e93e3",
   "metadata": {
    "ExecuteTime": {
     "end_time": "2023-02-13T21:07:44.674879Z",
     "start_time": "2023-02-13T21:07:43.577863Z"
    }
   },
   "outputs": [
    {
     "name": "stdout",
     "output_type": "stream",
     "text": [
      "ref                                                            title                                                size  lastUpdated          downloadCount  voteCount  usabilityRating  \r\n",
      "-------------------------------------------------------------  --------------------------------------------------  -----  -------------------  -------------  ---------  ---------------  \r\n",
      "gauravduttakiit/tabular-playground-series-jan-2022             Tabular Playground Series - Jan 2022                230KB  2022-01-04 08:56:10             89          9  0.7647059        \r\n",
      "carlmcbrideellis/gdp-20152019-finland-norway-and-sweden        GDP data for TPS competitions                        769B  2022-09-01 08:38:31            764         53  1.0              \r\n",
      "lucamassaron/festivities-in-finland-norway-sweden-tsp-0122     Festivities in Finland, Norway, Sweden (TSP 01-22)    3KB  2022-01-23 23:41:23             65         21  0.7647059        \r\n",
      "sergiosaharovskiy/tps2022novfeather                            TPS2022NOVFEATHER                                     1GB  2022-11-03 03:19:18             84         23  0.88235295       \r\n",
      "lucamassaron/tabular-playground-series-sep-2021                Tabular Playground Series - Sep 2021                597MB  2022-04-04 22:29:02             23          6  0.8235294        \r\n",
      "samuelcortinhas/gdp-of-european-countries                      GDP of European countries                            795B  2022-09-01 13:15:51            621         36  1.0              \r\n",
      "mustafakeser4/tpsoct22-parquet                                 TPS-OCT-22 Parquet                                    3GB  2022-10-19 17:41:31             38         13  1.0              \r\n",
      "samuelcortinhas/gdp-per-capita-finland-norway-sweden-201519    GDP per capita: Finland, Norway, Sweden (2015-19)    362B  2022-01-11 10:43:40            287         27  0.9411765        \r\n",
      "criskiev/november21                                            Original train.csv for TPS Nov 2021                 225MB  2021-11-10 21:29:55            174         17  0.47058824       \r\n",
      "hrshuvo/tabular-sep-21                                         tabular_sep_21                                      150MB  2021-09-18 12:30:02             16          8  0.64705884       \r\n",
      "jcaliz/tps-sep22-covid-data                                    TPS Sep22: Covid Data 🦠                              67KB  2022-09-01 16:34:50            388         24  1.0              \r\n",
      "rhythmcam/pycaret-regression-auto-model                        PyCaret Regression Blend Model                       968B  2022-01-16 10:44:45             10          9  0.875            \r\n",
      "kaaveland/tpsdec2021parquet                                    tps-dec-2021-parquet                                152MB  2021-12-06 16:03:32             67          5  0.5625           \r\n",
      "satoshiss/dataset-for-2022-tps-sep                             Dataset for 2022 TPS Sep                             37KB  2022-09-07 14:12:42             22          9  0.7058824        \r\n",
      "alexryzhkov/tps-competitions-private-leaderboards              TPS competitions private leaderboards               414KB  2021-08-01 12:42:58             22          6  0.7352941        \r\n",
      "kavehshahhosseini/tpsoctclassicfeatureimportance               TPS Oct 2021 - Classic Feature Importance             3KB  2021-10-22 09:47:56             14          8  0.8235294        \r\n",
      "mathurinache/tabularplaygroundseriesnov2021augmented           tabular-playground-series-nov-2021-augmented          2GB  2021-11-21 21:08:29              5          6  0.3529412        \r\n",
      "towhidultonmoy/tabular-playground-series-sep21-processed-data  Tabular Playground Series Sep-21 processed data     278MB  2021-09-16 18:13:07              3          2  0.47058824       \r\n",
      "sandeepmajumdar/tpssep22-gdp-per-capita-20172021               TPSSEP22 GDP Per Capita & Growth Rate 2017-2021       1KB  2022-09-09 16:46:04             12          8  0.9411765        \r\n",
      "aphilip/resampled-traincsv                                     SMOTE resampled May Tabular Playground Series         3MB  2021-05-25 18:40:45              7          2  0.3529412        \r\n"
     ]
    }
   ],
   "source": [
    "!kaggle datasets list -s tabular-playground-series \n"
   ]
  },
  {
   "cell_type": "code",
   "execution_count": 56,
   "id": "8fdb7e35",
   "metadata": {
    "ExecuteTime": {
     "end_time": "2023-01-23T20:04:22.235572Z",
     "start_time": "2023-01-23T20:04:20.911341Z"
    }
   },
   "outputs": [
    {
     "name": "stdout",
     "output_type": "stream",
     "text": [
      "Warning: Your Kaggle API key is readable by other users on this system! To fix this, you can run 'chmod 600 /Users/brucecottman/.kaggle/kaggle.json'\n",
      "Downloading california-housing-prices-data-extra-features.zip to /Users/brucecottman/Documents/PROJECTS/EDAplots/datasets\n",
      "  0%|                                                | 0.00/952k [00:00<?, ?B/s]\n",
      "100%|████████████████████████████████████████| 952k/952k [00:00<00:00, 12.7MB/s]\n"
     ]
    }
   ],
   "source": [
    "!kaggle datasets download --force fedesoriano/california-housing-prices-data-extra-features"
   ]
  },
  {
   "cell_type": "code",
   "execution_count": 64,
   "id": "5fe65ed3",
   "metadata": {
    "ExecuteTime": {
     "end_time": "2023-01-23T20:17:21.655624Z",
     "start_time": "2023-01-23T20:17:21.625470Z"
    }
   },
   "outputs": [],
   "source": [
    "\n",
    "    \n",
    "unzip('california-housing-prices.zip')"
   ]
  },
  {
   "cell_type": "code",
   "execution_count": 58,
   "id": "089fce5a",
   "metadata": {
    "ExecuteTime": {
     "end_time": "2023-01-23T20:12:11.559616Z",
     "start_time": "2023-01-23T20:12:10.526087Z"
    }
   },
   "outputs": [
    {
     "name": "stdout",
     "output_type": "stream",
     "text": [
      "Warning: Your Kaggle API key is readable by other users on this system! To fix this, you can run 'chmod 600 /Users/brucecottman/.kaggle/kaggle.json'\n",
      "Downloading covid19-effect-on-liver-cancer-prediction-dataset.zip to /Users/brucecottman/Documents/PROJECTS/EDAplots/datasets\n",
      "  0%|                                               | 0.00/9.03k [00:00<?, ?B/s]\n",
      "100%|██████████████████████████████████████| 9.03k/9.03k [00:00<00:00, 5.87MB/s]\n"
     ]
    }
   ],
   "source": [
    "!kaggle datasets download --force fedesoriano/covid19-effect-on-liver-cancer-prediction-dataset\n"
   ]
  },
  {
   "cell_type": "code",
   "execution_count": 65,
   "id": "a356e385",
   "metadata": {
    "ExecuteTime": {
     "end_time": "2023-01-23T20:18:42.359352Z",
     "start_time": "2023-01-23T20:18:42.354072Z"
    }
   },
   "outputs": [],
   "source": [
    "\n",
    "unzip( 'covid19-effect-on-liver-cancer-prediction-dataset.zip')\n"
   ]
  },
  {
   "cell_type": "code",
   "execution_count": 66,
   "id": "e2e3cb48",
   "metadata": {
    "ExecuteTime": {
     "end_time": "2023-01-23T20:19:57.556756Z",
     "start_time": "2023-01-23T20:19:55.801656Z"
    }
   },
   "outputs": [
    {
     "name": "stdout",
     "output_type": "stream",
     "text": [
      "Warning: Your Kaggle API key is readable by other users on this system! To fix this, you can run 'chmod 600 /Users/brucecottman/.kaggle/kaggle.json'\n",
      "Downloading hipparcos-star-catalog.zip to /Users/brucecottman/Documents/PROJECTS/EDAplots/datasets\n",
      " 66%|████████████████████████▉             | 9.00M/13.7M [00:00<00:00, 31.5MB/s]\n",
      "100%|██████████████████████████████████████| 13.7M/13.7M [00:00<00:00, 45.7MB/s]\n"
     ]
    }
   ],
   "source": [
    "!kaggle datasets download --force konivat/hipparcos-star-catalog"
   ]
  },
  {
   "cell_type": "code",
   "execution_count": 69,
   "id": "979cf2e4",
   "metadata": {
    "ExecuteTime": {
     "end_time": "2023-01-23T20:22:20.418014Z",
     "start_time": "2023-01-23T20:22:20.017216Z"
    }
   },
   "outputs": [],
   "source": [
    "unzip('hipparcos-star-catalog.zip')"
   ]
  },
  {
   "cell_type": "code",
   "execution_count": 71,
   "id": "63a8ebd7",
   "metadata": {
    "ExecuteTime": {
     "end_time": "2023-01-23T20:26:03.962016Z",
     "start_time": "2023-01-23T20:26:01.273591Z"
    }
   },
   "outputs": [
    {
     "name": "stdout",
     "output_type": "stream",
     "text": [
      "Warning: Your Kaggle API key is readable by other users on this system! To fix this, you can run 'chmod 600 /Users/brucecottman/.kaggle/kaggle.json'\n",
      "Downloading irish-weather-hourly-data.zip to /Users/brucecottman/Documents/PROJECTS/EDAplots/datasets\n",
      "100%|██████████████████████████████████████| 67.1M/67.1M [00:01<00:00, 42.9MB/s]\n",
      "\n"
     ]
    }
   ],
   "source": [
    "!kaggle datasets download --force conorrot/irish-weather-hourly-data"
   ]
  },
  {
   "cell_type": "code",
   "execution_count": 72,
   "id": "70c7ef6e",
   "metadata": {
    "ExecuteTime": {
     "end_time": "2023-01-23T20:26:44.126855Z",
     "start_time": "2023-01-23T20:26:41.017936Z"
    }
   },
   "outputs": [],
   "source": [
    "unzip('irish-weather-hourly-data.zip')"
   ]
  },
  {
   "cell_type": "code",
   "execution_count": 19,
   "id": "a62c54fb",
   "metadata": {
    "ExecuteTime": {
     "end_time": "2023-02-13T22:26:10.542400Z",
     "start_time": "2023-02-13T22:26:09.504130Z"
    }
   },
   "outputs": [
    {
     "name": "stdout",
     "output_type": "stream",
     "text": [
      "Downloading tps-sep22-covid-data.zip to /Users/brucecottman/Documents/PROJECTS/EDAplots/datasets\r\n",
      "\r",
      "  0%|                                               | 0.00/67.3k [00:00<?, ?B/s]\r\n",
      "\r",
      "100%|██████████████████████████████████████| 67.3k/67.3k [00:00<00:00, 2.45MB/s]\r\n"
     ]
    }
   ],
   "source": [
    "!kaggle datasets download --force jcaliz/tps-sep22-covid-data"
   ]
  },
  {
   "cell_type": "code",
   "execution_count": 20,
   "id": "6ed07f5c",
   "metadata": {
    "ExecuteTime": {
     "end_time": "2023-02-13T22:27:14.698069Z",
     "start_time": "2023-02-13T22:27:14.688469Z"
    }
   },
   "outputs": [],
   "source": [
    "unzip('tps-sep22-covid-data.zip')"
   ]
  },
  {
   "cell_type": "code",
   "execution_count": null,
   "id": "4b1df021",
   "metadata": {},
   "outputs": [],
   "source": []
  }
 ],
 "metadata": {
  "hide_input": false,
  "kernelspec": {
   "display_name": "Python 3 (ipykernel)",
   "language": "python",
   "name": "python3"
  },
  "language_info": {
   "codemirror_mode": {
    "name": "ipython",
    "version": 3
   },
   "file_extension": ".py",
   "mimetype": "text/x-python",
   "name": "python",
   "nbconvert_exporter": "python",
   "pygments_lexer": "ipython3",
   "version": "3.7.2"
  },
  "toc": {
   "base_numbering": 1,
   "nav_menu": {},
   "number_sections": true,
   "sideBar": true,
   "skip_h1_title": false,
   "title_cell": "Table of Contents",
   "title_sidebar": "Contents",
   "toc_cell": false,
   "toc_position": {},
   "toc_section_display": true,
   "toc_window_display": false
  }
 },
 "nbformat": 4,
 "nbformat_minor": 5
}
